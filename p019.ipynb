{
 "cells": [
  {
   "cell_type": "markdown",
   "metadata": {},
   "source": [
    "# Counting Sundays\n",
    "\n",
    "<p>You are given the following information, but you may prefer to do some research for yourself.</p>\n",
    "<ul><li>1 Jan 1900 was a Monday.</li>\n",
    "<li>Thirty days has September,<br />\n",
    "April, June and November.<br />\n",
    "All the rest have thirty-one,<br />\n",
    "Saving February alone,<br />\n",
    "Which has twenty-eight, rain or shine.<br />\n",
    "And on leap years, twenty-nine.</li>\n",
    "<li>A leap year occurs on any year evenly divisible by 4, but not on a century unless it is divisible by 400.</li>\n",
    "</ul><p>How many Sundays fell on the first of the month during the twentieth century (1 Jan 1901 to 31 Dec 2000)?</p>"
   ]
  },
  {
   "cell_type": "markdown",
   "metadata": {},
   "source": [
    "## Solution"
   ]
  },
  {
   "cell_type": "code",
   "execution_count": 1,
   "metadata": {},
   "outputs": [],
   "source": [
    "def is_leap(year):\n",
    "    if year % 100 == 0:\n",
    "        if year % 400 == 0:\n",
    "            return True\n",
    "        else:\n",
    "            return False\n",
    "    elif year % 4 == 0:\n",
    "        return True\n",
    "    else:\n",
    "        return False\n",
    "    \n",
    "\n",
    "def num_days(month, year):\n",
    "    if month in [1, 3, 5, 7, 8, 10, 12]:\n",
    "        return 31\n",
    "    if month in [4, 6, 9, 11]:\n",
    "        return 30\n",
    "    if month == 2:\n",
    "        if is_leap(year):\n",
    "            return 29\n",
    "        else:\n",
    "            return 28\n",
    "        \n",
    "def last_month_day(month, year, first_day):\n",
    "    n_days = num_days(month, year)\n",
    "    curr_day = first_day\n",
    "    \n",
    "    for i in range(n_days):\n",
    "        if curr_day == 7:\n",
    "            curr_day = 1\n",
    "        curr_day += 1\n",
    "\n",
    "    return curr_day    "
   ]
  },
  {
   "cell_type": "markdown",
   "metadata": {},
   "source": [
    "Using `calendar` module:"
   ]
  },
  {
   "cell_type": "code",
   "execution_count": 2,
   "metadata": {},
   "outputs": [
    {
     "name": "stdout",
     "output_type": "stream",
     "text": [
      "171\n"
     ]
    }
   ],
   "source": [
    "import calendar\n",
    "\n",
    "num_sundays = 0\n",
    "\n",
    "for y in range(1901, 2001):\n",
    "    for m in range(1, 13):\n",
    "        weekday = calendar.weekday(y, m, 1)\n",
    "        if weekday == 6:\n",
    "            num_sundays += 1\n",
    "            \n",
    "print(num_sundays)"
   ]
  }
 ],
 "metadata": {
  "kernelspec": {
   "display_name": "Python 3",
   "language": "python",
   "name": "python3"
  },
  "language_info": {
   "codemirror_mode": {
    "name": "ipython",
    "version": 3
   },
   "file_extension": ".py",
   "mimetype": "text/x-python",
   "name": "python",
   "nbconvert_exporter": "python",
   "pygments_lexer": "ipython3",
   "version": "3.8.3"
  }
 },
 "nbformat": 4,
 "nbformat_minor": 4
}
