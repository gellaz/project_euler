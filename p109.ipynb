{
 "cells": [
  {
   "cell_type": "code",
   "execution_count": 16,
   "metadata": {},
   "outputs": [
    {
     "name": "stdout",
     "output_type": "stream",
     "text": [
      "Singles [S]: [20, 1, 18, 4, 13, 6, 10, 15, 2, 17, 3, 19, 7, 16, 8, 11, 14, 9, 12, 5, 25]\n",
      "Doubles [D]: [40, 2, 36, 8, 26, 12, 20, 30, 4, 34, 6, 38, 14, 32, 16, 22, 28, 18, 24, 10, 50]\n",
      "Triples [T]: [60, 3, 54, 12, 39, 18, 30, 45, 6, 51, 9, 57, 21, 48, 24, 33, 42, 27, 36, 15]\n",
      "\n",
      "\n",
      "Points: [20, 1, 18, 4, 13, 6, 10, 15, 2, 17, 3, 19, 7, 16, 8, 11, 14, 9, 12, 5, 25, 40, 2, 36, 8, 26, 12, 20, 30, 4, 34, 6, 38, 14, 32, 16, 22, 28, 18, 24, 10, 50, 60, 3, 54, 12, 39, 18, 30, 45, 6, 51, 9, 57, 21, 48, 24, 33, 42, 27, 36, 15]\n"
     ]
    }
   ],
   "source": [
    "o_ring = [20, 1, 18, 4, 13, 6, 10, 15, 2, 17,\n",
    "          3, 19, 7, 16, 8, 11, 14, 9, 12, 5]\n",
    "doubles = [n*2 for n in o_ring]\n",
    "triples = [n*3 for n in o_ring]\n",
    "o_bull = [25]\n",
    "i_bull = [50]\n",
    "\n",
    "s = o_ring + o_bull\n",
    "d = doubles + i_bull\n",
    "t = triples\n",
    "points = s + d + t\n",
    "\n",
    "print('Singles [S]: {}'.format(s))\n",
    "print('Doubles [D]: {}'.format(d))\n",
    "print('Triples [T]: {}'.format(t))\n",
    "print('\\n')\n",
    "print('Points: {}'.format(points))"
   ]
  },
  {
   "cell_type": "code",
   "execution_count": 12,
   "metadata": {},
   "outputs": [],
   "source": [
    "score = 6"
   ]
  },
  {
   "cell_type": "code",
   "execution_count": null,
   "metadata": {},
   "outputs": [],
   "source": []
  }
 ],
 "metadata": {
  "kernelspec": {
   "display_name": "Python 3",
   "language": "python",
   "name": "python3"
  },
  "language_info": {
   "codemirror_mode": {
    "name": "ipython",
    "version": 3
   },
   "file_extension": ".py",
   "mimetype": "text/x-python",
   "name": "python",
   "nbconvert_exporter": "python",
   "pygments_lexer": "ipython3",
   "version": "3.7.2"
  }
 },
 "nbformat": 4,
 "nbformat_minor": 2
}
