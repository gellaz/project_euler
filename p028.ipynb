{
 "cells": [
  {
   "cell_type": "markdown",
   "metadata": {},
   "source": [
    "Starting with the number $1$ and moving to the right in a clockwise direction a $5$ by $5$ spiral is formed as follows:"
   ]
  },
  {
   "cell_type": "code",
   "execution_count": 2,
   "metadata": {},
   "outputs": [],
   "source": [
    "spiral = \"\"\"\n",
    "         21 22 23 24 25\n",
    "         20  7  8  9 10\n",
    "         19  6  1  2 11\n",
    "         18  5  4  3 12\n",
    "         17 16 15 14 13\n",
    "         \"\"\""
   ]
  },
  {
   "cell_type": "markdown",
   "metadata": {},
   "source": [
    "It can be verified that the sum of the numbers on the diagonals is $101$.\n",
    "\n",
    "What is the sum of the numbers on the diagonals in a $1001$ by $1001$ spiral formed in the same way?"
   ]
  },
  {
   "cell_type": "markdown",
   "metadata": {},
   "source": [
    "A spiral (which is a particular type of square matrix) can be divided into *rings*. A $n$ by $n$, where $n$ is an odd number otherwise there is no center in the spiral, matrix is composed by exactly $\\lceil n/2 \\rceil$ rings. The first ring has dimension $1$, the second $3$, the third $5$, ..."
   ]
  },
  {
   "cell_type": "code",
   "execution_count": 117,
   "metadata": {},
   "outputs": [],
   "source": [
    "def create_spiral(center, dim):\n",
    "    spiral = []\n",
    "    last_num = center - 1\n",
    "    \n",
    "    for n in range(center, dim + 1, 2):\n",
    "        first_num = last_num + 1\n",
    "        last_num = n**2\n",
    "        ring = list(range(first_num, last_num + 1))\n",
    "        spiral.append(ring)\n",
    "    \n",
    "    return spiral"
   ]
  },
  {
   "cell_type": "code",
   "execution_count": 145,
   "metadata": {},
   "outputs": [],
   "source": [
    "def diagonals(spiral):\n",
    "    center = spiral[0]\n",
    "    rings = spiral[1:]\n",
    "    diags = []\n",
    "    step = 2\n",
    "    \n",
    "    for ring in rings:\n",
    "        for i in range(step - 1, len(ring), step):\n",
    "            diags.append(ring[i])\n",
    "            \n",
    "        step += 2\n",
    "    \n",
    "    diag1 = [n for n in diags[::2]]\n",
    "    diag2 = [n for n in diags[1::2]]\n",
    "    diag1.extend(center)\n",
    "    diag2.extend(center)\n",
    "    \n",
    "    return diag1, diag2      "
   ]
  },
  {
   "cell_type": "code",
   "execution_count": 151,
   "metadata": {},
   "outputs": [
    {
     "name": "stdout",
     "output_type": "stream",
     "text": [
      "669171001\n"
     ]
    }
   ],
   "source": [
    "center = 1\n",
    "dim = 1001\n",
    "spiral = create_spiral(center, dim)\n",
    "diags = diagonals(spiral)\n",
    "result = sum(diags[0]) + sum(diags[1]) - center\n",
    "print(result)"
   ]
  }
 ],
 "metadata": {
  "kernelspec": {
   "display_name": "Python 3",
   "language": "python",
   "name": "python3"
  },
  "language_info": {
   "codemirror_mode": {
    "name": "ipython",
    "version": 3
   },
   "file_extension": ".py",
   "mimetype": "text/x-python",
   "name": "python",
   "nbconvert_exporter": "python",
   "pygments_lexer": "ipython3",
   "version": "3.8.3"
  }
 },
 "nbformat": 4,
 "nbformat_minor": 2
}
