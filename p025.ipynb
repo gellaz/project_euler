{
 "cells": [
  {
   "cell_type": "markdown",
   "metadata": {},
   "source": [
    "# 1000-digit Fibonacci number\n",
    "\n",
    "<p>The Fibonacci sequence is defined by the recurrence relation:</p>\n",
    "<blockquote>F<sub><i>n</i></sub> = F<sub><i>n</i>−1</sub> + F<sub><i>n</i>−2</sub>, where F<sub>1</sub> = 1 and F<sub>2</sub> = 1.</blockquote>\n",
    "<p>Hence the first 12 terms will be:</p>\n",
    "<blockquote>F<sub>1</sub> = 1<br />\n",
    "F<sub>2</sub> = 1<br />\n",
    "F<sub>3</sub> = 2<br />\n",
    "F<sub>4</sub> = 3<br />\n",
    "F<sub>5</sub> = 5<br />\n",
    "F<sub>6</sub> = 8<br />\n",
    "F<sub>7</sub> = 13<br />\n",
    "F<sub>8</sub> = 21<br />\n",
    "F<sub>9</sub> = 34<br />\n",
    "F<sub>10</sub> = 55<br />\n",
    "F<sub>11</sub> = 89<br />\n",
    "F<sub>12</sub> = 144</blockquote>\n",
    "<p>The 12th term, F<sub>12</sub>, is the first term to contain three digits.</p>\n",
    "<p>What is the index of the first term in the Fibonacci sequence to contain 1000 digits?</p>"
   ]
  },
  {
   "cell_type": "markdown",
   "metadata": {},
   "source": [
    "## Solution\n",
    "\n",
    "We have only defined the n-th Fibonacci number in terms of the two before it:\n",
    "\n",
    "$$\n",
    "F(n) = F(n - 1) + F(n - 2)\n",
    "$$\n",
    "\n",
    "Is there a formula for $F(n)$ which involves only $n$ and does not need any other (earlier) Fibonacci values? Yes! It's Binet's formula, which involves our golden section number $\\phi$ and its reciprocal $\\phi$:\n",
    "\n",
    "$$\n",
    "F(n) = \\frac{\\phi^n - (-\\phi)^{-n}}{\\sqrt{5}}\n",
    "$$\n",
    "\n",
    "To find the number of digits in a number we take the ceiling of the $log_{10}$ of that number.\n",
    "\n",
    "The above formula can be simplified:\n",
    "\n",
    "$$\n",
    "F(n) = round(\\phi^n / \\sqrt{5})\n",
    "$$\n",
    "\n",
    "Here round function indicates nearest integer.\n",
    "\n",
    "$$\n",
    "Count of digits in F(n) = \\log_{10}{F(n)}\\\\\n",
    "                          = \\log_{10}{\\frac{\\phi^n}{\\sqrt{5}}}\\\\\n",
    "                          = n*\\log_{10}{\\phi} - \\log_{10}{\\sqrt{5}}\\\\\n",
    "                          = n*\\log_{10}{\\phi} - \\log_{10}{5}/2\\\\\n",
    "$$"
   ]
  },
  {
   "cell_type": "code",
   "execution_count": 1,
   "metadata": {},
   "outputs": [],
   "source": [
    "import math\n",
    "\n",
    "def num_digits(n):\n",
    "    sqrt_5 = math.sqrt(5)\n",
    "    phi = (1 + sqrt_5) / 2\n",
    "    num_digits = n*math.log10(phi) - math.log10(5)/2\n",
    "    return math.ceil(num_digits)"
   ]
  },
  {
   "cell_type": "code",
   "execution_count": 2,
   "metadata": {},
   "outputs": [
    {
     "name": "stdout",
     "output_type": "stream",
     "text": [
      "4782\n"
     ]
    }
   ],
   "source": [
    "i = 1\n",
    "while True:\n",
    "    n = num_digits(i)\n",
    "    if n == 1000:\n",
    "        break\n",
    "    i += 1\n",
    "print(i)"
   ]
  }
 ],
 "metadata": {
  "kernelspec": {
   "display_name": "Python 3",
   "language": "python",
   "name": "python3"
  },
  "language_info": {
   "codemirror_mode": {
    "name": "ipython",
    "version": 3
   },
   "file_extension": ".py",
   "mimetype": "text/x-python",
   "name": "python",
   "nbconvert_exporter": "python",
   "pygments_lexer": "ipython3",
   "version": "3.8.3"
  }
 },
 "nbformat": 4,
 "nbformat_minor": 4
}
