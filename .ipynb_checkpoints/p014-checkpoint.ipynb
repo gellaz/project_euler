{
 "cells": [
  {
   "cell_type": "markdown",
   "metadata": {},
   "source": [
    "# Longest Collatz sequence\n",
    "\n",
    "<p>The following iterative sequence is defined for the set of positive integers:</p>\n",
    "<p class=\"margin_left\"><var>n</var> → <var>n</var>/2 (<var>n</var> is even)<br /><var>n</var> → 3<var>n</var> + 1 (<var>n</var> is odd)</p>\n",
    "<p>Using the rule above and starting with 13, we generate the following sequence:</p>\n",
    "<div class=\"center\">13 → 40 → 20 → 10 → 5 → 16 → 8 → 4 → 2 → 1</div>\n",
    "<p>It can be seen that this sequence (starting at 13 and finishing at 1) contains 10 terms. Although it has not been proved yet (Collatz Problem), it is thought that all starting numbers finish at 1.</p>\n",
    "<p>Which starting number, under one million, produces the longest chain?</p>\n",
    "<p class=\"note\"><b>NOTE:</b> Once the chain starts the terms are allowed to go above one million.</p>"
   ]
  },
  {
   "cell_type": "code",
   "execution_count": 1,
   "metadata": {},
   "outputs": [],
   "source": [
    "def collatz(n):\n",
    "    if n % 2 == 0:\n",
    "        return n / 2\n",
    "    else:\n",
    "        return 3*n + 1\n",
    "\n",
    "\n",
    "def collatz_seq(n):\n",
    "    seq = []\n",
    "    next_num = n\n",
    "    while True:\n",
    "        next_num = collatz(next_num)\n",
    "        seq.append(next_num)\n",
    "        if next_num == 1:\n",
    "            break\n",
    "    return seq"
   ]
  },
  {
   "cell_type": "code",
   "execution_count": 2,
   "metadata": {},
   "outputs": [
    {
     "name": "stdout",
     "output_type": "stream",
     "text": [
      "Longest chain length: 524\n",
      "Associated number: 837799\n"
     ]
    }
   ],
   "source": [
    "longest_chain_len = 0\n",
    "best_num = 0\n",
    "\n",
    "for i in range(1, int(1e6)):\n",
    "    seq = collatz_seq(i)\n",
    "    if len(seq) > longest_chain_len:\n",
    "        longest_chain_len = len(seq)\n",
    "        best_num = i\n",
    "\n",
    "print('Longest chain length: %s' % longest_chain_len)\n",
    "print('Associated number: %s' % best_num)"
   ]
  }
 ],
 "metadata": {
  "kernelspec": {
   "display_name": "Python 3",
   "language": "python",
   "name": "python3"
  },
  "language_info": {
   "codemirror_mode": {
    "name": "ipython",
    "version": 3
   },
   "file_extension": ".py",
   "mimetype": "text/x-python",
   "name": "python",
   "nbconvert_exporter": "python",
   "pygments_lexer": "ipython3",
   "version": "3.8.3"
  }
 },
 "nbformat": 4,
 "nbformat_minor": 4
}
