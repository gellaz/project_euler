{
 "cells": [
  {
   "cell_type": "markdown",
   "metadata": {},
   "source": [
    "https://projecteuler.net/problem=43\n",
    "\n",
    "The number, $1406357289$, is a $0$ to $9$ pandigital number because it is made up of each of the digits $0$ to $9$ in some order, but it also has a rather interesting sub-string divisibility property.\n",
    "\n",
    "Let $d_1$ be the 1st digit, $d_2$ be the 2nd digit, and so on. In this way, we note the following:\n",
    "\n",
    "* $d_2d_3d_4=406$ is divisible by $2$\n",
    "* $d_3d_4d_5=063$ is divisible by $3$\n",
    "* $d_4d_5d_6=635$ is divisible by $5$\n",
    "* $d_5d_6d_7=357$ is divisible by $7$\n",
    "* $d_6d_7d_8=572$ is divisible by $11$\n",
    "* $d_7d_8d_9=728$ is divisible by $13$\n",
    "* $d_8d_9d_{10}=289$ is divisible by $17$\n",
    "\n",
    "Find the sum of all $0$ to $9$ pandigital numbers with this property."
   ]
  },
  {
   "cell_type": "code",
   "execution_count": 1,
   "metadata": {},
   "outputs": [],
   "source": [
    "from itertools import permutations"
   ]
  },
  {
   "cell_type": "code",
   "execution_count": 18,
   "metadata": {},
   "outputs": [
    {
     "name": "stdout",
     "output_type": "stream",
     "text": [
      "16695334890\n"
     ]
    }
   ],
   "source": [
    "digits = list(range(10))\n",
    "pandigital_nums = list(permutations(digits))\n",
    "nums = []\n",
    "\n",
    "for num in pandigital_nums:\n",
    "    num_str = ''.join(map(str, num))\n",
    "\n",
    "    t1 = int(num_str[1:4])\n",
    "    t2 = int(num_str[2:5])\n",
    "    t3 = int(num_str[3:6])\n",
    "    t4 = int(num_str[4:7])\n",
    "    t5 = int(num_str[5:8])\n",
    "    t6 = int(num_str[6:9])\n",
    "    t7 = int(num_str[7:10])\n",
    "\n",
    "    c1 = t1%2 == 0\n",
    "    c2 = t2%3 == 0\n",
    "    c3 = t3%5 == 0\n",
    "    c4 = t4%7 == 0\n",
    "    c5 = t5%11 == 0\n",
    "    c6 = t6%13 == 0\n",
    "    c7 = t7%17 == 0\n",
    "    \n",
    "    if c1 and c2 and c3 and c4 and c5 and c6 and c7:\n",
    "        nums.append(int(num_str))\n",
    "        \n",
    "print(sum(nums))"
   ]
  }
 ],
 "metadata": {
  "kernelspec": {
   "display_name": "Python 3",
   "language": "python",
   "name": "python3"
  },
  "language_info": {
   "codemirror_mode": {
    "name": "ipython",
    "version": 3
   },
   "file_extension": ".py",
   "mimetype": "text/x-python",
   "name": "python",
   "nbconvert_exporter": "python",
   "pygments_lexer": "ipython3",
   "version": "3.8.3"
  }
 },
 "nbformat": 4,
 "nbformat_minor": 2
}
