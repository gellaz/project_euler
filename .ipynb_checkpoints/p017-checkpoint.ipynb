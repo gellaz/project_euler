{
 "cells": [
  {
   "cell_type": "markdown",
   "metadata": {},
   "source": [
    "# Number letter counts\n",
    "\n",
    "<p>If the numbers 1 to 5 are written out in words: one, two, three, four, five, then there are 3 + 3 + 5 + 4 + 4 = 19 letters used in total.</p>\n",
    "<p>If all the numbers from 1 to 1000 (one thousand) inclusive were written out in words, how many letters would be used? </p>\n",
    "<br /><p class=\"note\"><b>NOTE:</b> Do not count spaces or hyphens. For example, 342 (three hundred and forty-two) contains 23 letters and 115 (one hundred and fifteen) contains 20 letters. The use of \"and\" when writing out numbers is in compliance with British usage.</p>"
   ]
  },
  {
   "cell_type": "code",
   "execution_count": 1,
   "metadata": {},
   "outputs": [],
   "source": [
    "class NumberToWords():\n",
    "    def __init__(self, num=0):\n",
    "        self.num = num\n",
    "        self.switcher = {\n",
    "            0: \"zero\",\n",
    "            1: \"one\",\n",
    "            2: \"two\",\n",
    "            3: \"three\",\n",
    "            4: \"four\",\n",
    "            5: \"five\",\n",
    "            6: \"six\",\n",
    "            7: \"seven\",\n",
    "            8: \"eight\",\n",
    "            9: \"nine\",\n",
    "            10: \"ten\",\n",
    "            11: \"eleven\",\n",
    "            12: \"twelve\",\n",
    "            13: \"thirteen\",\n",
    "            14: \"fourteen\",\n",
    "            15: \"fifteen\",\n",
    "            16: \"sixteen\",\n",
    "            17: \"seventeen\",\n",
    "            18: \"eighteen\",\n",
    "            19: \"nineteen\",\n",
    "            20: \"twenty\",\n",
    "            30: \"thirty\",\n",
    "            40: \"forty\",\n",
    "            50: \"fifty\",\n",
    "            60: \"sixty\",\n",
    "            70: \"seventy\",\n",
    "            80: \"eighty\",\n",
    "            90: \"ninety\"\n",
    "        }\n",
    "        \n",
    "    \n",
    "    def set_num(self, num):\n",
    "        self.num = num\n",
    "\n",
    "\n",
    "    def increase_num(self):\n",
    "        self.num += 1\n",
    "\n",
    "\n",
    "    def dozens(self, num):\n",
    "        doz = int(str(num)[0] + '0')\n",
    "        return self.switcher[doz]\n",
    "\n",
    "\n",
    "    def to_words(self, num):\n",
    "        if num in self.switcher:\n",
    "            return self.switcher[num]\n",
    "\n",
    "        s = str(num)\n",
    "        n = len(s)\n",
    "\n",
    "        if n == 2:\n",
    "            res = self.dozens(num)\n",
    "            dig = int(s[1])\n",
    "            if dig:\n",
    "                res += '-' + self.to_words(dig)\n",
    "            return res\n",
    "\n",
    "        elif n == 3:\n",
    "            res = self.to_words(int(s[0]))\n",
    "            res += ' hundred '\n",
    "            tmp = int(s[1:])\n",
    "            if tmp:\n",
    "                res += 'and ' + self.to_words(tmp)\n",
    "            return res\n",
    "\n",
    "        else:\n",
    "            return 'one thousand'\n",
    "        \n",
    "    def get_result(self):\n",
    "        return self.to_words(self.num)\n",
    "\n",
    "\n",
    "def clean(s):\n",
    "    s = s.replace(' ', '')\n",
    "    s = s.replace('-', '')\n",
    "    return s"
   ]
  },
  {
   "cell_type": "code",
   "execution_count": 2,
   "metadata": {},
   "outputs": [
    {
     "name": "stdout",
     "output_type": "stream",
     "text": [
      "21124\n"
     ]
    }
   ],
   "source": [
    "cnt = 0\n",
    "ntw = NumberToWords(1)\n",
    "\n",
    "for i in range(1000):\n",
    "    s = ntw.get_result()\n",
    "    s = clean(s)\n",
    "    cnt += len(s)\n",
    "    ntw.increase_num()\n",
    "    \n",
    "print(cnt)"
   ]
  }
 ],
 "metadata": {
  "kernelspec": {
   "display_name": "Python 3",
   "language": "python",
   "name": "python3"
  },
  "language_info": {
   "codemirror_mode": {
    "name": "ipython",
    "version": 3
   },
   "file_extension": ".py",
   "mimetype": "text/x-python",
   "name": "python",
   "nbconvert_exporter": "python",
   "pygments_lexer": "ipython3",
   "version": "3.8.3"
  }
 },
 "nbformat": 4,
 "nbformat_minor": 4
}
