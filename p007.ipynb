{
 "cells": [
  {
   "cell_type": "markdown",
   "metadata": {},
   "source": [
    "# 10001st prime\n",
    "\n",
    "<p>By listing the first six prime numbers: 2, 3, 5, 7, 11, and 13, we can see that the 6th prime is 13.</p>\n",
    "<p>What is the 10 001st prime number?</p>"
   ]
  },
  {
   "cell_type": "code",
   "execution_count": 1,
   "metadata": {},
   "outputs": [],
   "source": [
    "def is_prime(num):\n",
    "    \"\"\"\n",
    "    Check if the input number is prime, i.e.\n",
    "    a natural number greater than 1 that cannot\n",
    "    be formed by multiplying two smaller natural\n",
    "    numbers\n",
    "\n",
    "    :param num: input number to check if it is prime\n",
    "    :return: True if num is prime, False otherwise\n",
    "    \"\"\"\n",
    "    # 1 is not considered a prime number\n",
    "    if num == 1:\n",
    "        return False\n",
    "\n",
    "    # Counter to store how many numbers in the\n",
    "    # range [1,num] gives zero in the modulo operation\n",
    "    # with num\n",
    "    cnt = 0\n",
    "\n",
    "    for i in range(1, num+1):\n",
    "        if num % i == 0:\n",
    "            cnt += 1\n",
    "\n",
    "    if cnt > 2:\n",
    "        return False\n",
    "\n",
    "    return True"
   ]
  },
  {
   "cell_type": "code",
   "execution_count": null,
   "metadata": {},
   "outputs": [],
   "source": [
    "# List to store the prime numbers found\n",
    "primes = []\n",
    "# Limit where to stop calculating prime numbers\n",
    "LIMIT = 10001\n",
    "\n",
    "num = 1\n",
    "\n",
    "while True:\n",
    "    if is_prime(num):\n",
    "        primes.append(num)\n",
    "\n",
    "    if len(primes) == LIMIT:\n",
    "        break\n",
    "\n",
    "    num += 1\n",
    "\n",
    "print(primes[-1])"
   ]
  }
 ],
 "metadata": {
  "kernelspec": {
   "display_name": "Python 3",
   "language": "python",
   "name": "python3"
  },
  "language_info": {
   "codemirror_mode": {
    "name": "ipython",
    "version": 3
   },
   "file_extension": ".py",
   "mimetype": "text/x-python",
   "name": "python",
   "nbconvert_exporter": "python",
   "pygments_lexer": "ipython3",
   "version": "3.8.3"
  }
 },
 "nbformat": 4,
 "nbformat_minor": 4
}
