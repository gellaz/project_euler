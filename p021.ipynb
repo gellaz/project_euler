{
 "cells": [
  {
   "cell_type": "markdown",
   "metadata": {},
   "source": [
    "# Amicable numbers\n",
    "\n",
    "<p>Let d(<i>n</i>) be defined as the sum of proper divisors of <i>n</i> (numbers less than <i>n</i> which divide evenly into <i>n</i>).<br />\n",
    "If d(<i>a</i>) = <i>b</i> and d(<i>b</i>) = <i>a</i>, where <i>a</i> ≠ <i>b</i>, then <i>a</i> and <i>b</i> are an amicable pair and each of <i>a</i> and <i>b</i> are called amicable numbers.</p>\n",
    "<p>For example, the proper divisors of 220 are 1, 2, 4, 5, 10, 11, 20, 22, 44, 55 and 110; therefore d(220) = 284. The proper divisors of 284 are 1, 2, 4, 71 and 142; so d(284) = 220.</p>\n",
    "<p>Evaluate the sum of all the amicable numbers under 10000.</p>"
   ]
  },
  {
   "cell_type": "markdown",
   "metadata": {},
   "source": [
    "## Solution\n",
    "\n",
    "Idea: all the divisors are present in pairs.\n",
    "\n",
    "For example, the divisors of the number $n=100$ are:\n",
    "\n",
    "$$\n",
    "1, 2, 4, 5, 10, 20, 25, 50, 100\n",
    "$$\n",
    "\n",
    "If $d$ is a divisor, I notiche that also $\\frac{n}{d}$ is a divisor. So I have to check only the first $\\sqrt{n}$ divisors.\n",
    "\n",
    "Complexity: $O(\\sqrt{n})$"
   ]
  },
  {
   "cell_type": "code",
   "execution_count": 19,
   "metadata": {},
   "outputs": [],
   "source": [
    "import math\n",
    "\n",
    "def divisors(n):\n",
    "    divs = []\n",
    "    d = 1\n",
    "    while d <= math.sqrt(n):\n",
    "        if n % d == 0:\n",
    "            if n / d == d:\n",
    "                divs.append(d)\n",
    "            else:\n",
    "                divs.append(d)\n",
    "                divs.append(int(n / d))\n",
    "        d += 1\n",
    "    return divs"
   ]
  },
  {
   "cell_type": "markdown",
   "metadata": {},
   "source": [
    "To find the proper divisors we have to filter out the number $n$ from the list of divisors:"
   ]
  },
  {
   "cell_type": "code",
   "execution_count": 26,
   "metadata": {},
   "outputs": [],
   "source": [
    "def proper_divisors(n):\n",
    "    divs = divisors(n)\n",
    "    divs.remove(n)\n",
    "    return divs"
   ]
  },
  {
   "cell_type": "markdown",
   "metadata": {},
   "source": [
    "Now let's define the function $d(n)$ that returns the sum of proper divisors of number $n$ and a function to check if two numbers are amicable:"
   ]
  },
  {
   "cell_type": "code",
   "execution_count": 31,
   "metadata": {},
   "outputs": [],
   "source": [
    "def d(n):\n",
    "    return sum(proper_divisors(n))\n",
    "\n",
    "def are_amicable(n1, n2):\n",
    "    c1 = n1 != n2\n",
    "    c2 = d(n1) == n2\n",
    "    c3 = d(n2) == n1\n",
    "    \n",
    "    if c1 and c2 and c3:\n",
    "        return True\n",
    "    else:\n",
    "        return False        "
   ]
  }
 ],
 "metadata": {
  "kernelspec": {
   "display_name": "Python 3",
   "language": "python",
   "name": "python3"
  },
  "language_info": {
   "codemirror_mode": {
    "name": "ipython",
    "version": 3
   },
   "file_extension": ".py",
   "mimetype": "text/x-python",
   "name": "python",
   "nbconvert_exporter": "python",
   "pygments_lexer": "ipython3",
   "version": "3.8.3"
  }
 },
 "nbformat": 4,
 "nbformat_minor": 4
}
